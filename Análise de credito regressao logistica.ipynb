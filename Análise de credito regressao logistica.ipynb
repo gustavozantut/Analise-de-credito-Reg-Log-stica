{
 "cells": [
  {
   "cell_type": "markdown",
   "metadata": {},
   "source": [
    "# Regressão Logística para Análise de Crédito\n",
    "\n",
    "## Introdução\n",
    "\n",
    "O problema de análise de crédito é frequentemente resolvido utilizando regressão logística, uma vez que órgãos reguladores podem auditar o sistema de decisão para concessão de crédito afim de se evitar abusos.\n",
    "O método de regressão logística, por se tratar de um modelo linear, é capaz de retornar os pesos dados a cada caracterísica dos clientes.\n",
    "\n",
    "Nesse contexto, existem algumas bases públicas para criação de modelos de análise de crédito, entre elas, existe a [GiveMeSomeCredit](https://www.kaggle.com/c/GiveMeSomeCredit/data), que fez parte de uma competição do Kaggle a alguns anos.\n"
   ]
  },
  {
   "cell_type": "code",
   "execution_count": 56,
   "metadata": {},
   "outputs": [],
   "source": [
    "import numpy as np\n",
    "import pandas as pd\n",
    "import matplotlib.pyplot as plt\n",
    "\n",
    "from sklearn.metrics import confusion_matrix\n",
    "from sklearn import datasets  \n",
    "from sklearn.linear_model import LogisticRegression, LogisticRegressionCV\n",
    "from sklearn.metrics import (classification_report, accuracy_score, roc_curve, roc_auc_score)\n",
    "from sklearn.preprocessing import StandardScaler, OneHotEncoder\n",
    "from sklearn.model_selection import train_test_split\n",
    "\n",
    "\n",
    "from custom_plot import *"
   ]
  },
  {
   "cell_type": "code",
   "execution_count": 46,
   "metadata": {},
   "outputs": [
    {
     "data": {
      "text/html": [
       "<div>\n",
       "<style scoped>\n",
       "    .dataframe tbody tr th:only-of-type {\n",
       "        vertical-align: middle;\n",
       "    }\n",
       "\n",
       "    .dataframe tbody tr th {\n",
       "        vertical-align: top;\n",
       "    }\n",
       "\n",
       "    .dataframe thead th {\n",
       "        text-align: right;\n",
       "    }\n",
       "</style>\n",
       "<table border=\"1\" class=\"dataframe\">\n",
       "  <thead>\n",
       "    <tr style=\"text-align: right;\">\n",
       "      <th></th>\n",
       "      <th>SeriousDlqin2yrs</th>\n",
       "      <th>RevolvingUtilizationOfUnsecuredLines</th>\n",
       "      <th>age</th>\n",
       "      <th>NumberOfTime30-59DaysPastDueNotWorse</th>\n",
       "      <th>DebtRatio</th>\n",
       "      <th>MonthlyIncome</th>\n",
       "      <th>NumberOfOpenCreditLinesAndLoans</th>\n",
       "      <th>NumberOfTimes90DaysLate</th>\n",
       "      <th>NumberRealEstateLoansOrLines</th>\n",
       "      <th>NumberOfTime60-89DaysPastDueNotWorse</th>\n",
       "      <th>NumberOfDependents</th>\n",
       "    </tr>\n",
       "  </thead>\n",
       "  <tbody>\n",
       "    <tr>\n",
       "      <td>0</td>\n",
       "      <td>1</td>\n",
       "      <td>0.766127</td>\n",
       "      <td>45</td>\n",
       "      <td>2</td>\n",
       "      <td>0.802982</td>\n",
       "      <td>9120.0</td>\n",
       "      <td>13</td>\n",
       "      <td>0</td>\n",
       "      <td>6</td>\n",
       "      <td>0</td>\n",
       "      <td>2.0</td>\n",
       "    </tr>\n",
       "    <tr>\n",
       "      <td>1</td>\n",
       "      <td>0</td>\n",
       "      <td>0.957151</td>\n",
       "      <td>40</td>\n",
       "      <td>0</td>\n",
       "      <td>0.121876</td>\n",
       "      <td>2600.0</td>\n",
       "      <td>4</td>\n",
       "      <td>0</td>\n",
       "      <td>0</td>\n",
       "      <td>0</td>\n",
       "      <td>1.0</td>\n",
       "    </tr>\n",
       "    <tr>\n",
       "      <td>2</td>\n",
       "      <td>0</td>\n",
       "      <td>0.658180</td>\n",
       "      <td>38</td>\n",
       "      <td>1</td>\n",
       "      <td>0.085113</td>\n",
       "      <td>3042.0</td>\n",
       "      <td>2</td>\n",
       "      <td>1</td>\n",
       "      <td>0</td>\n",
       "      <td>0</td>\n",
       "      <td>0.0</td>\n",
       "    </tr>\n",
       "    <tr>\n",
       "      <td>3</td>\n",
       "      <td>0</td>\n",
       "      <td>0.233810</td>\n",
       "      <td>30</td>\n",
       "      <td>0</td>\n",
       "      <td>0.036050</td>\n",
       "      <td>3300.0</td>\n",
       "      <td>5</td>\n",
       "      <td>0</td>\n",
       "      <td>0</td>\n",
       "      <td>0</td>\n",
       "      <td>0.0</td>\n",
       "    </tr>\n",
       "    <tr>\n",
       "      <td>4</td>\n",
       "      <td>0</td>\n",
       "      <td>0.907239</td>\n",
       "      <td>49</td>\n",
       "      <td>1</td>\n",
       "      <td>0.024926</td>\n",
       "      <td>63588.0</td>\n",
       "      <td>7</td>\n",
       "      <td>0</td>\n",
       "      <td>1</td>\n",
       "      <td>0</td>\n",
       "      <td>0.0</td>\n",
       "    </tr>\n",
       "  </tbody>\n",
       "</table>\n",
       "</div>"
      ],
      "text/plain": [
       "   SeriousDlqin2yrs  RevolvingUtilizationOfUnsecuredLines  age  \\\n",
       "0                 1                              0.766127   45   \n",
       "1                 0                              0.957151   40   \n",
       "2                 0                              0.658180   38   \n",
       "3                 0                              0.233810   30   \n",
       "4                 0                              0.907239   49   \n",
       "\n",
       "   NumberOfTime30-59DaysPastDueNotWorse  DebtRatio  MonthlyIncome  \\\n",
       "0                                     2   0.802982         9120.0   \n",
       "1                                     0   0.121876         2600.0   \n",
       "2                                     1   0.085113         3042.0   \n",
       "3                                     0   0.036050         3300.0   \n",
       "4                                     1   0.024926        63588.0   \n",
       "\n",
       "   NumberOfOpenCreditLinesAndLoans  NumberOfTimes90DaysLate  \\\n",
       "0                               13                        0   \n",
       "1                                4                        0   \n",
       "2                                2                        1   \n",
       "3                                5                        0   \n",
       "4                                7                        0   \n",
       "\n",
       "   NumberRealEstateLoansOrLines  NumberOfTime60-89DaysPastDueNotWorse  \\\n",
       "0                             6                                     0   \n",
       "1                             0                                     0   \n",
       "2                             0                                     0   \n",
       "3                             0                                     0   \n",
       "4                             1                                     0   \n",
       "\n",
       "   NumberOfDependents  \n",
       "0                 2.0  \n",
       "1                 1.0  \n",
       "2                 0.0  \n",
       "3                 0.0  \n",
       "4                 0.0  "
      ]
     },
     "execution_count": 46,
     "metadata": {},
     "output_type": "execute_result"
    }
   ],
   "source": [
    "# Importando dados, excluindos as linhas que contem Na e coluna sem informação útil\n",
    "X = pd.read_csv('GiveMeSomeCredit/cs-training.csv')\n",
    "X.dropna(axis=0, inplace=True)\n",
    "X.drop(['Unnamed: 0'], axis=1, inplace=True)\n",
    "X.head()"
   ]
  },
  {
   "cell_type": "code",
   "execution_count": 47,
   "metadata": {
    "scrolled": true
   },
   "outputs": [],
   "source": [
    "# Passando os dados de resposta para y e excluindo-os das features de treino\n",
    "y = X.SeriousDlqin2yrs\n",
    "X.drop(['SeriousDlqin2yrs'], axis=1, inplace=True)\n",
    "# Separando dados de treino e teste\n",
    "X_train, X_test, y_train, y_test = train_test_split(X, y, test_size=0.2)"
   ]
  },
  {
   "cell_type": "code",
   "execution_count": 48,
   "metadata": {
    "scrolled": true
   },
   "outputs": [
    {
     "name": "stderr",
     "output_type": "stream",
     "text": [
      "C:\\Users\\Gustavo\\Anaconda31\\lib\\site-packages\\sklearn\\linear_model\\logistic.py:432: FutureWarning: Default solver will be changed to 'lbfgs' in 0.22. Specify a solver to silence this warning.\n",
      "  FutureWarning)\n"
     ]
    },
    {
     "name": "stdout",
     "output_type": "stream",
     "text": [
      "Accuracy: 0.9294919763864637\n",
      "              precision    recall  f1-score   support\n",
      "\n",
      "           0       0.93      1.00      0.96     22339\n",
      "           1       0.71      0.02      0.04      1715\n",
      "\n",
      "    accuracy                           0.93     24054\n",
      "   macro avg       0.82      0.51      0.50     24054\n",
      "weighted avg       0.91      0.93      0.90     24054\n",
      "\n"
     ]
    }
   ],
   "source": [
    "# Regressão logística - Treino\n",
    "logit_clf = LogisticRegression(random_state=0, max_iter=500)\n",
    "logit_clf.fit(X_train, y_train)\n",
    "# Regressão logística - Teste\n",
    "y_pred = logit_clf.predict(X_test)\n",
    "# Avaliando resultados do teste\n",
    "target_names = [\"0\",\"1\"]\n",
    "accuracy = accuracy_score(y_test, y_pred)\n",
    "print('Accuracy:', accuracy)\n",
    "print(classification_report(y_true=y_test, y_pred=y_pred, target_names=target_names))"
   ]
  },
  {
   "cell_type": "code",
   "execution_count": null,
   "metadata": {},
   "outputs": [],
   "source": [
    "# Podemos observar que a taxa de recall é bastante alta para a classe 0, ou seja, todos os dados da classe 0 foram \n",
    "# previstos corretamente, indicando que não existem casos de falsos positivo.\n",
    "# Entretando os resultados para a classe 1 indicam um valor médio de precisao para a classe 1, acertando 71% das \n",
    "# vezes que previu a classe porém de todos os registros da classe 1, foram previstos apenas 0,02%"
   ]
  },
  {
   "cell_type": "code",
   "execution_count": 49,
   "metadata": {
    "scrolled": true
   },
   "outputs": [
    {
     "data": {
      "image/png": "[encoded data removed]",
      "text/plain": [
       "<Figure size 432x288 with 1 Axes>"
      ]
     },
     "metadata": {
      "needs_background": "light"
     },
     "output_type": "display_data"
    }
   ],
   "source": [
    "# Plotando a curva ROC\n",
    "y_proba = logit_clf.predict_proba(X_test)[:,1]\n",
    "fpr, tpr, thresholds = roc_curve(y_test, y_proba)\n",
    "\n",
    "plt.plot([0,1],[0,1], 'k--')\n",
    "plt.plot(fpr, tpr, label='Regressão Logística')\n",
    "plt.xlabel('Taxa de Falso Positivo')\n",
    "plt.ylabel('Taxa de Verdadeiro Positivo')\n",
    "plt.show;"
   ]
  },
  {
   "cell_type": "code",
   "execution_count": 50,
   "metadata": {},
   "outputs": [
    {
     "data": {
      "text/plain": [
       "0.6938974667713005"
      ]
     },
     "execution_count": 50,
     "metadata": {},
     "output_type": "execute_result"
    }
   ],
   "source": [
    "# Calculando a área da curva ROC\n",
    "roc_auc_score(y_test, y_proba)"
   ]
  },
  {
   "cell_type": "code",
   "execution_count": 52,
   "metadata": {},
   "outputs": [
    {
     "name": "stdout",
     "output_type": "stream",
     "text": [
      "Accuracy: 0.929367257005072\n",
      "              precision    recall  f1-score   support\n",
      "\n",
      "           0       0.93      1.00      0.96     22339\n",
      "           1       0.74      0.01      0.03      1715\n",
      "\n",
      "    accuracy                           0.93     24054\n",
      "   macro avg       0.83      0.51      0.50     24054\n",
      "weighted avg       0.92      0.93      0.90     24054\n",
      "\n"
     ]
    }
   ],
   "source": [
    "# Validação cruzada\n",
    "logit_clf_cv = LogisticRegressionCV(random_state=0, max_iter=1000, cv=5)\n",
    "logit_clf_cv.fit(X_train, y_train)\n",
    "\n",
    "y_pred = logit_clf_cv.predict(X_test)\n",
    "\n",
    "accuracy = accuracy_score(y_test, y_pred)\n",
    "print('Accuracy:', accuracy)\n",
    "print(classification_report(y_true=y_test, y_pred=y_pred, target_names=target_names))"
   ]
  },
  {
   "cell_type": "code",
   "execution_count": null,
   "metadata": {},
   "outputs": [],
   "source": [
    "# Podemos observar que após a validação cruzada os resultados para a classe 0 foram os parecidos.\n",
    "# Já os resultados para a classe 1 indicam um aumento na taxa de acerto das predições dessa classe, mesmo assim\n",
    "# a proporção de falsos negativos ainda é grande."
   ]
  },
  {
   "cell_type": "code",
   "execution_count": 8,
   "metadata": {},
   "outputs": [
    {
     "name": "stdout",
     "output_type": "stream",
     "text": [
      "Inverso da Regularização:\n",
      "[1.00000000e-04 7.74263683e-04 5.99484250e-03 4.64158883e-02\n",
      " 3.59381366e-01 2.78255940e+00 2.15443469e+01 1.66810054e+02\n",
      " 1.29154967e+03 1.00000000e+04]\n",
      "Scores:\n",
      "[[0.93026398 0.93026398 0.93026398 0.93026398 0.93026398 0.93026398\n",
      "  0.93026398 0.93026398 0.93026398 0.93026398]\n",
      " [0.93031232 0.93031232 0.93031232 0.93031232 0.93031232 0.93031232\n",
      "  0.93031232 0.93031232 0.93031232 0.93031232]\n",
      " [0.92968872 0.92968872 0.92968872 0.92968872 0.92968872 0.92968872\n",
      "  0.92968872 0.92968872 0.92968872 0.92968872]\n",
      " [0.93010445 0.93015642 0.93015642 0.93015642 0.93015642 0.93015642\n",
      "  0.93015642 0.93015642 0.93015642 0.93015642]\n",
      " [0.93041264 0.93041264 0.93041264 0.93041264 0.93041264 0.93041264\n",
      "  0.93041264 0.93041264 0.93041264 0.93041264]]\n"
     ]
    }
   ],
   "source": [
    "# Exibindo o inverso da regularização, quanto menor o valor, maior o nível de regularização dos dados.\n",
    "print('Inverso da Regularização:')\n",
    "print(logit_clf_cv.Cs_)\n",
    "# Exibindo scores aferidos na validação cruzada.\n",
    "print('Scores:')\n",
    "print(logit_clf_cv.scores_[1])"
   ]
  },
  {
   "cell_type": "code",
   "execution_count": 53,
   "metadata": {},
   "outputs": [
    {
     "data": {
      "image/png": "[encoded data removed]",
      "text/plain": [
       "<Figure size 432x288 with 1 Axes>"
      ]
     },
     "metadata": {
      "needs_background": "light"
     },
     "output_type": "display_data"
    }
   ],
   "source": [
    "# Plotando a curva ROC da validação cruzada.\n",
    "y_proba = logit_clf_cv.predict_proba(X_test)[:,1]\n",
    "fpr, tpr, thresholds = roc_curve(y_test, y_proba)\n",
    "\n",
    "plt.plot([0,1],[0,1], 'k--')\n",
    "plt.plot(fpr, tpr, label='Regressão Logística')\n",
    "plt.xlabel('Taxa de Falso Positivo')\n",
    "plt.ylabel('Taxa de Verdadeiro Positivo')\n",
    "plt.show;"
   ]
  },
  {
   "cell_type": "code",
   "execution_count": 54,
   "metadata": {
    "scrolled": false
   },
   "outputs": [
    {
     "data": {
      "text/plain": [
       "0.6895093716919919"
      ]
     },
     "execution_count": 54,
     "metadata": {},
     "output_type": "execute_result"
    }
   ],
   "source": [
    "# Calculando a área da curva ROC apartir dos resultados da validação cruzada.\n",
    "roc_auc_score(y_test, y_proba)"
   ]
  },
  {
   "cell_type": "code",
   "execution_count": null,
   "metadata": {},
   "outputs": [],
   "source": [
    "# Conclusão:\n",
    "# Apesar do f1 score estar baixo para a classe 1, para o nosso problema de análise de credito as métricas \n",
    "# de maior importância são:\n",
    "# Verdadeiros positivo onde se preve que a análise deve ser aprovada e ela é prevista como aprovada(74%); \n",
    "# Verdadeiros negativos,ou seja, das análises que deveriam ser reprovadas, quantas realmente foram \n",
    "# reprovadas(100%).\n",
    "# Apesar do modelo reprovar todas as análises que devem ser \"reprovadas\" ainda existe uma proporção considerável\n",
    "# de análises que foram aprovadas mas não deveriam ter sido e também as análises que deveriam ser aprovadas\n",
    "# mas não foram."
   ]
  }
 ],
 "metadata": {
  "kernelspec": {
   "display_name": "Python 3",
   "language": "python",
   "name": "python3"
  },
  "language_info": {
   "codemirror_mode": {
    "name": "ipython",
    "version": 3
   },
   "file_extension": ".py",
   "mimetype": "text/x-python",
   "name": "python",
   "nbconvert_exporter": "python",
   "pygments_lexer": "ipython3",
   "version": "3.7.4"
  }
 },
 "nbformat": 4,
 "nbformat_minor": 2
}
